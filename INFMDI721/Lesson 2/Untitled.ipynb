{
 "cells": [
  {
   "cell_type": "code",
   "execution_count": 1,
   "metadata": {},
   "outputs": [],
   "source": [
    "def nextpower(n):\n",
    "    i = 0\n",
    "    \n",
    "    while (2 ** i < n):\n",
    "        i += 1\n",
    "    \n",
    "    return 2 ** i"
   ]
  },
  {
   "cell_type": "code",
   "execution_count": 4,
   "metadata": {},
   "outputs": [
    {
     "data": {
      "text/plain": [
       "256"
      ]
     },
     "execution_count": 4,
     "metadata": {},
     "output_type": "execute_result"
    }
   ],
   "source": [
    "nextpower(152)"
   ]
  },
  {
   "cell_type": "code",
   "execution_count": 5,
   "metadata": {},
   "outputs": [],
   "source": [
    "def vxz_1(s):\n",
    "\n",
    "    return s[-5]+s[-3]+s[-1]\n",
    "\n",
    "def vxz_2(s):\n",
    "    \n",
    "    return s[21:26:2]"
   ]
  },
  {
   "cell_type": "code",
   "execution_count": 6,
   "metadata": {},
   "outputs": [],
   "source": [
    "import numpy as np"
   ]
  },
  {
   "cell_type": "code",
   "execution_count": 10,
   "metadata": {},
   "outputs": [
    {
     "data": {
      "text/plain": [
       "3.141592653"
      ]
     },
     "execution_count": 10,
     "metadata": {},
     "output_type": "execute_result"
    }
   ],
   "source": [
    "float(str(np.pi)[:11])"
   ]
  },
  {
   "cell_type": "code",
   "execution_count": 12,
   "metadata": {},
   "outputs": [],
   "source": [
    "def count_helloworld():\n",
    "    s = \"HelLo WorLd!!\"\n",
    "    dictio = {}\n",
    "    \n",
    "    for x in s:\n",
    "        if (x in dictio):\n",
    "            dictio[x] += 1\n",
    "        else:\n",
    "            dictio[x] = 1\n",
    "    \n",
    "    return dictio\n",
    "    "
   ]
  },
  {
   "cell_type": "code",
   "execution_count": 15,
   "metadata": {},
   "outputs": [
    {
     "name": "stdout",
     "output_type": "stream",
     "text": [
      "Dictionnaire: {'H': 1, 'e': 1, 'l': 1, 'L': 2, 'o': 2, ' ': 1, 'W': 1, 'r': 1, 'd': 1, '!': 2}\n",
      "Nombre d'occurences de L: 2\n"
     ]
    }
   ],
   "source": [
    "r = count_helloworld()\n",
    "print(\"Dictionnaire:\", r)\n",
    "print(\"Nombre d'occurences de L:\", r[\"L\"])"
   ]
  },
  {
   "cell_type": "code",
   "execution_count": 24,
   "metadata": {},
   "outputs": [],
   "source": [
    "def codage(s, n):\n",
    "    s_new = \"\"\n",
    "    ord_A = ord(\"A\")\n",
    "    ord_a = ord(\"a\")\n",
    "    \n",
    "    for x in s:\n",
    "        i = ord(x) # Pour avoir l'ordre du caractère 'x' dans le tableau d'ASCII\n",
    "        \n",
    "        if (x.isupper()):\n",
    "            i -= ord_A\n",
    "        else:\n",
    "            i -= ord_a\n",
    "            \n",
    "        i = (i + n) % 26 # codage = on décale par 'n' caractères\n",
    "        \n",
    "        if (x.isupper()):\n",
    "            i += ord_A\n",
    "        else:\n",
    "            i += ord_a\n",
    "            \n",
    "        s_new += chr(i) # On ajoute le caractère correspondant à l'ordre 'i' dans le tableau d'ASCII avec la fonction chr\n",
    "        \n",
    "    return s_new"
   ]
  },
  {
   "cell_type": "code",
   "execution_count": 26,
   "metadata": {},
   "outputs": [
    {
     "data": {
      "text/plain": [
       "'MjqqtBtwqi'"
      ]
     },
     "execution_count": 26,
     "metadata": {},
     "output_type": "execute_result"
    }
   ],
   "source": [
    "codage(\"HelloWorld\", 5)"
   ]
  },
  {
   "cell_type": "code",
   "execution_count": null,
   "metadata": {},
   "outputs": [],
   "source": []
  },
  {
   "cell_type": "code",
   "execution_count": null,
   "metadata": {},
   "outputs": [],
   "source": []
  }
 ],
 "metadata": {
  "kernelspec": {
   "display_name": "Python 3",
   "language": "python",
   "name": "python3"
  },
  "language_info": {
   "codemirror_mode": {
    "name": "ipython",
    "version": 3
   },
   "file_extension": ".py",
   "mimetype": "text/x-python",
   "name": "python",
   "nbconvert_exporter": "python",
   "pygments_lexer": "ipython3",
   "version": "3.6.5"
  }
 },
 "nbformat": 4,
 "nbformat_minor": 2
}
